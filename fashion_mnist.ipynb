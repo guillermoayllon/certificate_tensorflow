{
  "cells": [
    {
      "cell_type": "markdown",
      "metadata": {
        "id": "view-in-github",
        "colab_type": "text"
      },
      "source": [
        "<a href=\"https://colab.research.google.com/github/guillermoayllon/certificate_tensorflow/blob/main/fashion_mnist.ipynb\" target=\"_parent\"><img src=\"https://colab.research.google.com/assets/colab-badge.svg\" alt=\"Open In Colab\"/></a>"
      ]
    },
    {
      "cell_type": "code",
      "execution_count": null,
      "id": "569dd840",
      "metadata": {
        "scrolled": true,
        "id": "569dd840"
      },
      "outputs": [],
      "source": [
        "import tensorflow as tf\n",
        "import tensorflow_datasets as tfds\n",
        "from tensorflow import keras\n",
        "from matplotlib import pyplot as plt\n",
        "import numpy as np\n",
        "import pandas as pd\n",
        "import sklearn as sk\n",
        "from sklearn import model_selection"
      ]
    },
    {
      "cell_type": "code",
      "execution_count": null,
      "id": "930ef170",
      "metadata": {
        "id": "930ef170"
      },
      "outputs": [],
      "source": [
        "(train, val, test), info = tfds.load('fashion_mnist', shuffle_files=True, as_supervised = True, split = ['train[:80%]','train[80%:]', 'test'], with_info = True)"
      ]
    },
    {
      "cell_type": "markdown",
      "id": "4acf7560",
      "metadata": {
        "id": "4acf7560"
      },
      "source": [
        " # EDA"
      ]
    },
    {
      "cell_type": "code",
      "execution_count": null,
      "id": "d456ccc8",
      "metadata": {
        "id": "d456ccc8",
        "outputId": "d8bf0e10-aff7-4f2b-c171-75471b96ddaa"
      },
      "outputs": [
        {
          "name": "stdout",
          "output_type": "stream",
          "text": [
            "48000\n",
            "12000\n",
            "10000\n"
          ]
        }
      ],
      "source": [
        "print(len(train))\n",
        "print(len(val))\n",
        "print(len(test))"
      ]
    },
    {
      "cell_type": "code",
      "execution_count": null,
      "id": "2303cbca",
      "metadata": {
        "id": "2303cbca",
        "outputId": "a99774cb-d4cc-4933-8a93-799d568caeee"
      },
      "outputs": [
        {
          "data": {
            "text/plain": [
              "<PrefetchDataset element_spec=(TensorSpec(shape=(28, 28, 1), dtype=tf.uint8, name=None), TensorSpec(shape=(), dtype=tf.int64, name=None))>"
            ]
          },
          "execution_count": 4,
          "metadata": {},
          "output_type": "execute_result"
        }
      ],
      "source": [
        "train"
      ]
    },
    {
      "cell_type": "code",
      "execution_count": null,
      "id": "64b8e47e",
      "metadata": {
        "id": "64b8e47e"
      },
      "outputs": [],
      "source": [
        "x_train, y_train = [], []\n",
        "for image, label in tfds.as_numpy(train):\n",
        "    x_train.append(image)\n",
        "    y_train.append(label)\n",
        " \n",
        "x_val, y_val = [], []\n",
        "for image, label in tfds.as_numpy(val):\n",
        "    x_val.append(image)\n",
        "    y_val.append(label)"
      ]
    },
    {
      "cell_type": "code",
      "execution_count": null,
      "id": "6956649f",
      "metadata": {
        "id": "6956649f",
        "outputId": "498b7044-4b67-40cd-af9f-cdf62cd52a1e"
      },
      "outputs": [
        {
          "data": {
            "text/html": [
              "<style type=\"text/css\">\n",
              "</style>\n",
              "<table id=\"T_3204d\">\n",
              "  <thead>\n",
              "    <tr>\n",
              "      <th class=\"blank level0\" >&nbsp;</th>\n",
              "      <th id=\"T_3204d_level0_col0\" class=\"col_heading level0 col0\" >image</th>\n",
              "      <th id=\"T_3204d_level0_col1\" class=\"col_heading level0 col1\" >label</th>\n",
              "    </tr>\n",
              "  </thead>\n",
              "  <tbody>\n",
              "    <tr>\n",
              "      <th id=\"T_3204d_level0_row0\" class=\"row_heading level0 row0\" >0</th>\n",
              "      <td id=\"T_3204d_row0_col0\" class=\"data row0 col0\" ><img src=\"data:image/png;base64,iVBORw0KGgoAAAANSUhEUgAAABwAAAAcCAAAAABXZoBIAAAB90lEQVR4nFXSv2/TQBQH8O+75zvbcWLkNG3S0hBAQi0bCwMSLB3YGBj4N/gv+H+YkFiQkCispRNSIVKV0ibCiiuT1K7tu2NI4oRbTrrPvR96esDqtF+NRien5z/e3K+faHm/ONDJ5Pnb4N2n/r44+/gfvu5dzTmPJ/lgV0E+HL7fwL2jiXVRsZ8LquAXgw9DABAAgD6gbAVOM1Ox0pT2AQAOAMBjbR3SpZSWDNg2DdaRUUsSLEBkNCj3dngzsulYNlpqSJKY7ZXhRqQObZCDNcFok5eHeatZYwNbfmkX/4S9ReD+LWrs3JAAs2aQIO3O+o3Cr3E/69xLFUAQBGQYWLlTYzCXvfmdQsCS1WxUJ267NUoRPwZuTAVrhMmCVtqS62799HeUFYrJoBRXR/gSBjUq1ndfXipoAJDZ0wtscz0EFkV4PW9qw4C4jU7R9coVOob95ITlokSxexw9E3qVVlnTTBNFgABIevHXgz+8QtYC8VRpI4wVwsBMaeatUDqwozywIJ0zCUcl3mKWC3S3v0USLOAXFsClN3bqtJVMzrpQwnih4yjZSJypWHXbrRqHsdfMBMgGtvRVHJLqjRcoi+gXjh+UkgFGqIbobMWPlhh2/AuMx/Uuoy11J17WTHuzJ+v1BjD9fO3Hy5o/3dgAdo34fp6lAP4BaVXEQOlmPXkAAAAASUVORK5CYII=\" alt=\"Img\" /></td>\n",
              "      <td id=\"T_3204d_row0_col1\" class=\"data row0 col1\" >2 (Pullover)</td>\n",
              "    </tr>\n",
              "    <tr>\n",
              "      <th id=\"T_3204d_level0_row1\" class=\"row_heading level0 row1\" >1</th>\n",
              "      <td id=\"T_3204d_row1_col0\" class=\"data row1 col0\" ><img src=\"data:image/png;base64,iVBORw0KGgoAAAANSUhEUgAAABwAAAAcCAAAAABXZoBIAAABRUlEQVR4nG3SsUoDQRAG4H92b+9yBpQkIilttAi+ga2tj+E72dgKNpaiNoJFQE1xCkkUBY0I0Ug4uZCEy+3uWOUEd6ca/o+dHZYllLVbH1vBleaJXSbBH16+ZbmmokXHcOqAszkzT3UC9+S+meeZJaG3yojKboapskzMDbm8VJQY54KJmCz28B/rsGDDkBabDtZQEEdVMkDDQYA4Sger1qDp4AjKht+JtIzMwQmI7foaWGLgjjXKhD9daIG2i/ehoNkjSKLn4oViVBcwYQoXTwvS1QmCsOvBjlJWGkAkHsRLXLAA07kPk2ihcoji3UWJEUj1wYhdZBDizitCIX3Y0PIKnyvBjg+3C0QIBLd8C22wqEGAlQ9T2AA3UnpeiPAU6S6uyX65KPAAfYtn6J6LwF0QjzEUlWGZlP/W4uxw9oH2EfdL/AUAToacy84HiAAAAABJRU5ErkJggg==\" alt=\"Img\" /></td>\n",
              "      <td id=\"T_3204d_row1_col1\" class=\"data row1 col1\" >1 (Trouser)</td>\n",
              "    </tr>\n",
              "    <tr>\n",
              "      <th id=\"T_3204d_level0_row2\" class=\"row_heading level0 row2\" >2</th>\n",
              "      <td id=\"T_3204d_row2_col0\" class=\"data row2 col0\" ><img src=\"data:image/png;base64,iVBORw0KGgoAAAANSUhEUgAAABwAAAAcCAAAAABXZoBIAAACNUlEQVR4nLXSP09TURgH4N977rn3tKW0lZbSlPAngkFCJCYog8bEBBMnTVxc+AIOTMbBzZjI7uTqoJsTDkZNNE6yMWgHEzEQEKhtba+lvbe955z3+Cl4PsMDnAmCYGD+zrQnjbW+NIYq/TDaTACAyOHikyoPiUHkyCTODpCfe/gB5Miz648PeolRgXVwwmoOIqXTY92NhpCM6PdxwMJ0PcAIZwSfDjhuLHpw0qHGEcuQUoYQiNhTg5EkcH5CIIEHz21O2SAFEoIGUibKUjp1Gt8Gy6trpR/eMGFoAlgZLVmn+yLXfNTekvdbNk58bRURkYV10J6z/iB4sxmKF2uFng94sMw2xTIlFGnPmenu97tir16IKbHOChKCHThhIYQVqeT1UODzYc7L5LM+CIID7UYFkSM2nZ1Y4nqnl2WXGDg48g8G4x3pI6ta997tShSO0PTZETzf2kFFB3lBjvvZZb0tsVsUHW/UDHX8r5DBiGMib6SYo6PUvoSUQbWPpdxCT9cjlfEDJKTs24XSeEtC8/HRavPj9rWZS+XKaStK2zSr/Kdi+RASjamfmVzz/Lje3plYuTLZPBb9ISpL+3NDSESy9qylRCZTOul8qZVvrvyphyK6cBBqSGyV5l0Yj8kwOzv1N998NX1jefZXq4osQMDLyXRrT+ZlYEwkrSVbXTWjncbT9yDBixvF8lxXjfpQrq6139gNc+XLX9fJEQBg9tYMDMCebberJ+cmMrX99rd0fDan8R+0vRdlaUCaaAAAAABJRU5ErkJggg==\" alt=\"Img\" /></td>\n",
              "      <td id=\"T_3204d_row2_col1\" class=\"data row2 col1\" >8 (Bag)</td>\n",
              "    </tr>\n",
              "    <tr>\n",
              "      <th id=\"T_3204d_level0_row3\" class=\"row_heading level0 row3\" >3</th>\n",
              "      <td id=\"T_3204d_row3_col0\" class=\"data row3 col0\" ><img src=\"data:image/png;base64,iVBORw0KGgoAAAANSUhEUgAAABwAAAAcCAAAAABXZoBIAAABvElEQVR4nG3Sv2pUQRTH8e+ZuffqumDUiE2CRMHCwkIQxc5GH8HOQmsfQATB3tInsBafxBeQLMSwMcEkRDa77t67c2fmZ7Hx7vrnlPOB3znDOUZX7s3x9Z0701f8px5lZUn1h9f/2nOdfm/Gk+ao1dO/7e3+8dFw2jSzwdeDnXd/2if92N8bDFMe7B7sjvRx1e43w8OUw8np4f5kPj0aNvcWIwLwzDlORq2LvTVmo+SLFwAUADzMhRQaV9YJyVx8sIIbqYwyT5TPZq5K1wAwAOaN2cSZIVPOl1O6UC17VirkzQyEeVC5MhCymM0MYV6xPHt1AFskVyaSzBmuDuciWx3exFoTv0NSgFsd3saXwUDIsqqKYgU3URk9OAOXXajERofrREtCBsreILDe4VooFfEgkQvfqkhXltiCCgQSocyqmktLjG4SLQhJNjcbW+p3mNUfZMsGCHzYrlCHZm6vzItvmtT7Vph16GDaIy0GcrN+jfPLWJj41i+W5OZ5TLuMVVTwoTDAnBOtorplV239eNTWLrrcJsujJ3Uqu/vanumssqSJJH3pLuHG1c+99yebyueZZ44vvgx3fw6AX7hL+g+o9X4yAAAAAElFTkSuQmCC\" alt=\"Img\" /></td>\n",
              "      <td id=\"T_3204d_row3_col1\" class=\"data row3 col1\" >4 (Coat)</td>\n",
              "    </tr>\n",
              "    <tr>\n",
              "      <th id=\"T_3204d_level0_row4\" class=\"row_heading level0 row4\" >4</th>\n",
              "      <td id=\"T_3204d_row4_col0\" class=\"data row4 col0\" ><img src=\"data:image/png;base64,iVBORw0KGgoAAAANSUhEUgAAABwAAAAcCAAAAABXZoBIAAABNElEQVR4nG3QzUrDQBSG4e+c+UlsSv0pgiJuRN248A70crwTr0XwGnTjQtCVSAURoWApNJLWptUmTWbGVaMwc5bvs/jgEJq7PHrVrqDj6cWq0B9OeWKFiIRurYps7JyfhQGp4vSk5+FZpWJLjsG7Pq7XwsEAxHurxA1aUzOcIFPHPn4rWGmsgZM+znS1dBsRWSIfc3LEn7GpFsbHCbsyurPzyTzz8YMXc33TQSXffHxngrjVFMUvPmaVhqhnKslLH5FKGJRa9xHAgRYWruAshBlRhVxaFcKa5BBPa+iEUEH+YCjMZgjbqA/QQp2E0Ci5gxaLPIT9drKEizrjEN4rlWIo2mkIH0qRYiz4MYSjJWJkJryZFXIdTC74IXzZLey7shfG7S6ybuKaIP/h9cDi6tCMmvALE8J6nUvEEaAAAAAASUVORK5CYII=\" alt=\"Img\" /></td>\n",
              "      <td id=\"T_3204d_row4_col1\" class=\"data row4 col1\" >1 (Trouser)</td>\n",
              "    </tr>\n",
              "  </tbody>\n",
              "</table>\n"
            ],
            "text/plain": [
              "                                               image  label\n",
              "0  [[[0], [0], [0], [0], [0], [0], [0], [0], [0],...      2\n",
              "1  [[[0], [0], [0], [0], [0], [0], [0], [0], [0],...      1\n",
              "2  [[[0], [0], [0], [0], [0], [0], [0], [0], [0],...      8\n",
              "3  [[[0], [0], [0], [0], [0], [0], [0], [0], [0],...      4\n",
              "4  [[[0], [0], [0], [0], [0], [0], [0], [0], [0],...      1"
            ]
          },
          "execution_count": 6,
          "metadata": {},
          "output_type": "execute_result"
        }
      ],
      "source": [
        "tfds.as_dataframe(train.take(5), info)"
      ]
    },
    {
      "cell_type": "code",
      "execution_count": null,
      "id": "9ddcbf3a",
      "metadata": {
        "id": "9ddcbf3a",
        "outputId": "18bb3e04-0fed-42d2-bfc4-04b7ef28eb40"
      },
      "outputs": [
        {
          "name": "stdout",
          "output_type": "stream",
          "text": [
            "['T-shirt/top', 'Trouser', 'Pullover', 'Dress', 'Coat', 'Sandal', 'Shirt', 'Sneaker', 'Bag', 'Ankle boot'] \n",
            " 10\n"
          ]
        }
      ],
      "source": [
        "class_names = info.features[\"label\"].names\n",
        "n_classes = info.features['label'].num_classes\n",
        "print(class_names, '\\n', n_classes)"
      ]
    },
    {
      "cell_type": "code",
      "execution_count": null,
      "id": "a6d27239",
      "metadata": {
        "id": "a6d27239",
        "outputId": "ae568e13-91bf-4729-ef47-cbab7a2a157c"
      },
      "outputs": [
        {
          "data": {
            "text/plain": [
              "(array([0, 1, 2, 3, 4, 5, 6, 7, 8, 9]),\n",
              " array([4763, 4800, 4810, 4794, 4855, 4791, 4798, 4766, 4799, 4824]))"
            ]
          },
          "execution_count": 8,
          "metadata": {},
          "output_type": "execute_result"
        }
      ],
      "source": [
        "np.unique(y_train, return_counts= True)"
      ]
    },
    {
      "cell_type": "code",
      "execution_count": null,
      "id": "8f0176df",
      "metadata": {
        "id": "8f0176df",
        "outputId": "8e22b20a-151b-49c8-9204-526d67e1f479"
      },
      "outputs": [
        {
          "data": {
            "text/plain": [
              "(array([0, 1, 2, 3, 4, 5, 6, 7, 8, 9]),\n",
              " array([1237, 1200, 1190, 1206, 1145, 1209, 1202, 1234, 1201, 1176]))"
            ]
          },
          "execution_count": 9,
          "metadata": {},
          "output_type": "execute_result"
        }
      ],
      "source": [
        "np.unique(y_val, return_counts= True)"
      ]
    },
    {
      "cell_type": "code",
      "execution_count": null,
      "id": "b3f0fe11",
      "metadata": {
        "scrolled": false,
        "id": "b3f0fe11",
        "outputId": "bc1a48b5-04b7-4f42-ad82-1402b0286e7b"
      },
      "outputs": [
        {
          "data": {
            "text/plain": [
              "array([  0,   1,   2,   3,   4,   5,   6,   7,   8,   9,  10,  11,  12,\n",
              "        13,  14,  15,  16,  17,  18,  19,  20,  21,  22,  23,  24,  25,\n",
              "        26,  27,  28,  29,  30,  31,  32,  33,  34,  35,  36,  37,  38,\n",
              "        39,  40,  41,  42,  43,  44,  45,  46,  47,  48,  49,  50,  51,\n",
              "        52,  53,  54,  55,  56,  57,  58,  59,  60,  61,  62,  63,  64,\n",
              "        65,  66,  67,  68,  69,  70,  71,  72,  73,  74,  75,  76,  77,\n",
              "        78,  79,  80,  81,  82,  83,  84,  85,  86,  87,  88,  89,  90,\n",
              "        91,  92,  93,  94,  95,  96,  97,  98,  99, 100, 101, 102, 103,\n",
              "       104, 105, 106, 107, 108, 109, 110, 111, 112, 113, 114, 115, 116,\n",
              "       117, 118, 119, 120, 121, 122, 123, 124, 125, 126, 127, 128, 129,\n",
              "       130, 131, 132, 133, 134, 135, 136, 137, 138, 139, 140, 141, 142,\n",
              "       143, 144, 145, 146, 147, 148, 149, 150, 151, 152, 153, 154, 155,\n",
              "       156, 157, 158, 159, 160, 161, 162, 163, 164, 165, 166, 167, 168,\n",
              "       169, 170, 171, 172, 173, 174, 175, 176, 177, 178, 179, 180, 181,\n",
              "       182, 183, 184, 185, 186, 187, 188, 189, 190, 191, 192, 193, 194,\n",
              "       195, 196, 197, 198, 199, 200, 201, 202, 203, 204, 205, 206, 207,\n",
              "       208, 209, 210, 211, 212, 213, 214, 215, 216, 217, 218, 219, 220,\n",
              "       221, 222, 223, 224, 225, 226, 227, 228, 229, 230, 231, 232, 233,\n",
              "       234, 235, 236, 237, 238, 239, 240, 241, 242, 243, 244, 245, 246,\n",
              "       247, 248, 249, 250, 251, 252, 253, 254, 255], dtype=uint8)"
            ]
          },
          "execution_count": 10,
          "metadata": {},
          "output_type": "execute_result"
        }
      ],
      "source": [
        "np.unique(x_train)"
      ]
    },
    {
      "cell_type": "markdown",
      "id": "cd028085",
      "metadata": {
        "id": "cd028085"
      },
      "source": [
        "# Fully CNN"
      ]
    },
    {
      "cell_type": "code",
      "execution_count": null,
      "id": "bd12a176",
      "metadata": {
        "id": "bd12a176",
        "outputId": "bda39d47-505d-4194-f8e2-7f0c371b5524"
      },
      "outputs": [
        {
          "name": "stdout",
          "output_type": "stream",
          "text": [
            "<MapDataset element_spec=(TensorSpec(shape=(None, 28, 28, 1), dtype=tf.float32, name=None), TensorSpec(shape=(None,), dtype=tf.int64, name=None))>\n"
          ]
        }
      ],
      "source": [
        "train = train.shuffle(1000000).batch(32).prefetch(1)\n",
        "val = val.shuffle(1000000).batch(32).prefetch(1)\n",
        "def preprocess_FCNN(image, label):\n",
        "    #image = tf.image.resize(image, [244,244])\n",
        "    image = image/255\n",
        "    return (image, label)\n",
        "\n",
        "train = train.map(preprocess_FCNN)\n",
        "val = val.map(preprocess_FCNN)\n",
        "print(train)"
      ]
    },
    {
      "cell_type": "markdown",
      "id": "93f9e18b",
      "metadata": {
        "id": "93f9e18b"
      },
      "source": [
        "Define a function to build the model:"
      ]
    },
    {
      "cell_type": "code",
      "execution_count": null,
      "id": "1768b134",
      "metadata": {
        "id": "1768b134"
      },
      "outputs": [],
      "source": [
        "model = keras.models.Sequential()\n",
        "model.add(keras.layers.Conv2D(64, 7, activation='relu', padding='same', input_shape=[28,28,1]))\n",
        "model.add(keras.layers.MaxPooling2D(2))\n",
        "model.add(keras.layers.Conv2D(128, 3, activation='relu', padding='same'))\n",
        "model.add(keras.layers.Conv2D(128, 3, activation='relu', padding='same'))\n",
        "model.add(keras.layers.MaxPooling2D(2))\n",
        "model.add(keras.layers.Conv2D(256, 3, activation='relu', padding='same'))\n",
        "model.add(keras.layers.Conv2D(256, 3, activation='relu', padding='same'))\n",
        "model.add(keras.layers.MaxPooling2D(2))\n",
        "model.add(keras.layers.Conv2D(10, 3, activation='relu', padding='valid'))"
      ]
    },
    {
      "cell_type": "code",
      "execution_count": null,
      "id": "1a1da8f5",
      "metadata": {
        "id": "1a1da8f5",
        "outputId": "d2c7f061-0e8d-4cc8-c54e-0071b5d37067"
      },
      "outputs": [
        {
          "name": "stdout",
          "output_type": "stream",
          "text": [
            "Model: \"sequential\"\n",
            "_________________________________________________________________\n",
            " Layer (type)                Output Shape              Param #   \n",
            "=================================================================\n",
            " conv2d (Conv2D)             (None, 28, 28, 64)        3200      \n",
            "                                                                 \n",
            " max_pooling2d (MaxPooling2D  (None, 14, 14, 64)       0         \n",
            " )                                                               \n",
            "                                                                 \n",
            " conv2d_1 (Conv2D)           (None, 14, 14, 128)       73856     \n",
            "                                                                 \n",
            " conv2d_2 (Conv2D)           (None, 14, 14, 128)       147584    \n",
            "                                                                 \n",
            " max_pooling2d_1 (MaxPooling  (None, 7, 7, 128)        0         \n",
            " 2D)                                                             \n",
            "                                                                 \n",
            " conv2d_3 (Conv2D)           (None, 7, 7, 256)         295168    \n",
            "                                                                 \n",
            " conv2d_4 (Conv2D)           (None, 7, 7, 256)         590080    \n",
            "                                                                 \n",
            " max_pooling2d_2 (MaxPooling  (None, 3, 3, 256)        0         \n",
            " 2D)                                                             \n",
            "                                                                 \n",
            " conv2d_5 (Conv2D)           (None, 1, 1, 10)          23050     \n",
            "                                                                 \n",
            "=================================================================\n",
            "Total params: 1,132,938\n",
            "Trainable params: 1,132,938\n",
            "Non-trainable params: 0\n",
            "_________________________________________________________________\n"
          ]
        }
      ],
      "source": [
        "model.summary()"
      ]
    },
    {
      "cell_type": "code",
      "execution_count": null,
      "id": "af300bc7",
      "metadata": {
        "id": "af300bc7"
      },
      "outputs": [],
      "source": [
        "model.compile(loss=tf.keras.losses.SparseCategoricalCrossentropy(), optimizer='Adam')"
      ]
    },
    {
      "cell_type": "code",
      "execution_count": null,
      "id": "d60d6fca",
      "metadata": {
        "id": "d60d6fca",
        "outputId": "5bfcfccb-8aa3-4e16-b34a-fbc745b2238e"
      },
      "outputs": [
        {
          "name": "stdout",
          "output_type": "stream",
          "text": [
            "Epoch 1/200\n",
            " 210/1500 [===>..........................] - ETA: 2:45 - loss: 2.7845"
          ]
        },
        {
          "ename": "KeyboardInterrupt",
          "evalue": "",
          "output_type": "error",
          "traceback": [
            "\u001b[0;31m---------------------------------------------------------------------------\u001b[0m",
            "\u001b[0;31mKeyboardInterrupt\u001b[0m                         Traceback (most recent call last)",
            "Cell \u001b[0;32mIn [15], line 1\u001b[0m\n\u001b[0;32m----> 1\u001b[0m \u001b[43mmodel\u001b[49m\u001b[38;5;241;43m.\u001b[39;49m\u001b[43mfit\u001b[49m\u001b[43m(\u001b[49m\u001b[43mtrain\u001b[49m\u001b[43m,\u001b[49m\u001b[43m \u001b[49m\u001b[43mvalidation_data\u001b[49m\u001b[43m \u001b[49m\u001b[38;5;241;43m=\u001b[39;49m\u001b[43m \u001b[49m\u001b[43mval\u001b[49m\u001b[43m,\u001b[49m\u001b[43m \u001b[49m\u001b[43mepochs\u001b[49m\u001b[43m \u001b[49m\u001b[38;5;241;43m=\u001b[39;49m\u001b[43m \u001b[49m\u001b[38;5;241;43m200\u001b[39;49m\u001b[43m,\u001b[49m\u001b[43m \u001b[49m\u001b[43mcallbacks\u001b[49m\u001b[43m \u001b[49m\u001b[38;5;241;43m=\u001b[39;49m\u001b[43m \u001b[49m\u001b[43m[\u001b[49m\u001b[43mtf\u001b[49m\u001b[38;5;241;43m.\u001b[39;49m\u001b[43mkeras\u001b[49m\u001b[38;5;241;43m.\u001b[39;49m\u001b[43mcallbacks\u001b[49m\u001b[38;5;241;43m.\u001b[39;49m\u001b[43mEarlyStopping\u001b[49m\u001b[43m(\u001b[49m\u001b[43mpatience\u001b[49m\u001b[38;5;241;43m=\u001b[39;49m\u001b[38;5;241;43m25\u001b[39;49m\u001b[43m)\u001b[49m\u001b[43m]\u001b[49m\u001b[43m)\u001b[49m\n",
            "File \u001b[0;32m~/.local/lib/python3.8/site-packages/keras/utils/traceback_utils.py:65\u001b[0m, in \u001b[0;36mfilter_traceback.<locals>.error_handler\u001b[0;34m(*args, **kwargs)\u001b[0m\n\u001b[1;32m     63\u001b[0m filtered_tb \u001b[38;5;241m=\u001b[39m \u001b[38;5;28;01mNone\u001b[39;00m\n\u001b[1;32m     64\u001b[0m \u001b[38;5;28;01mtry\u001b[39;00m:\n\u001b[0;32m---> 65\u001b[0m     \u001b[38;5;28;01mreturn\u001b[39;00m \u001b[43mfn\u001b[49m\u001b[43m(\u001b[49m\u001b[38;5;241;43m*\u001b[39;49m\u001b[43margs\u001b[49m\u001b[43m,\u001b[49m\u001b[43m \u001b[49m\u001b[38;5;241;43m*\u001b[39;49m\u001b[38;5;241;43m*\u001b[39;49m\u001b[43mkwargs\u001b[49m\u001b[43m)\u001b[49m\n\u001b[1;32m     66\u001b[0m \u001b[38;5;28;01mexcept\u001b[39;00m \u001b[38;5;167;01mException\u001b[39;00m \u001b[38;5;28;01mas\u001b[39;00m e:\n\u001b[1;32m     67\u001b[0m     filtered_tb \u001b[38;5;241m=\u001b[39m _process_traceback_frames(e\u001b[38;5;241m.\u001b[39m__traceback__)\n",
            "File \u001b[0;32m~/.local/lib/python3.8/site-packages/keras/engine/training.py:1650\u001b[0m, in \u001b[0;36mModel.fit\u001b[0;34m(self, x, y, batch_size, epochs, verbose, callbacks, validation_split, validation_data, shuffle, class_weight, sample_weight, initial_epoch, steps_per_epoch, validation_steps, validation_batch_size, validation_freq, max_queue_size, workers, use_multiprocessing)\u001b[0m\n\u001b[1;32m   1642\u001b[0m \u001b[38;5;28;01mwith\u001b[39;00m tf\u001b[38;5;241m.\u001b[39mprofiler\u001b[38;5;241m.\u001b[39mexperimental\u001b[38;5;241m.\u001b[39mTrace(\n\u001b[1;32m   1643\u001b[0m     \u001b[38;5;124m\"\u001b[39m\u001b[38;5;124mtrain\u001b[39m\u001b[38;5;124m\"\u001b[39m,\n\u001b[1;32m   1644\u001b[0m     epoch_num\u001b[38;5;241m=\u001b[39mepoch,\n\u001b[0;32m   (...)\u001b[0m\n\u001b[1;32m   1647\u001b[0m     _r\u001b[38;5;241m=\u001b[39m\u001b[38;5;241m1\u001b[39m,\n\u001b[1;32m   1648\u001b[0m ):\n\u001b[1;32m   1649\u001b[0m     callbacks\u001b[38;5;241m.\u001b[39mon_train_batch_begin(step)\n\u001b[0;32m-> 1650\u001b[0m     tmp_logs \u001b[38;5;241m=\u001b[39m \u001b[38;5;28;43mself\u001b[39;49m\u001b[38;5;241;43m.\u001b[39;49m\u001b[43mtrain_function\u001b[49m\u001b[43m(\u001b[49m\u001b[43miterator\u001b[49m\u001b[43m)\u001b[49m\n\u001b[1;32m   1651\u001b[0m     \u001b[38;5;28;01mif\u001b[39;00m data_handler\u001b[38;5;241m.\u001b[39mshould_sync:\n\u001b[1;32m   1652\u001b[0m         context\u001b[38;5;241m.\u001b[39masync_wait()\n",
            "File \u001b[0;32m~/.local/lib/python3.8/site-packages/tensorflow/python/util/traceback_utils.py:150\u001b[0m, in \u001b[0;36mfilter_traceback.<locals>.error_handler\u001b[0;34m(*args, **kwargs)\u001b[0m\n\u001b[1;32m    148\u001b[0m filtered_tb \u001b[38;5;241m=\u001b[39m \u001b[38;5;28;01mNone\u001b[39;00m\n\u001b[1;32m    149\u001b[0m \u001b[38;5;28;01mtry\u001b[39;00m:\n\u001b[0;32m--> 150\u001b[0m   \u001b[38;5;28;01mreturn\u001b[39;00m \u001b[43mfn\u001b[49m\u001b[43m(\u001b[49m\u001b[38;5;241;43m*\u001b[39;49m\u001b[43margs\u001b[49m\u001b[43m,\u001b[49m\u001b[43m \u001b[49m\u001b[38;5;241;43m*\u001b[39;49m\u001b[38;5;241;43m*\u001b[39;49m\u001b[43mkwargs\u001b[49m\u001b[43m)\u001b[49m\n\u001b[1;32m    151\u001b[0m \u001b[38;5;28;01mexcept\u001b[39;00m \u001b[38;5;167;01mException\u001b[39;00m \u001b[38;5;28;01mas\u001b[39;00m e:\n\u001b[1;32m    152\u001b[0m   filtered_tb \u001b[38;5;241m=\u001b[39m _process_traceback_frames(e\u001b[38;5;241m.\u001b[39m__traceback__)\n",
            "File \u001b[0;32m~/.local/lib/python3.8/site-packages/tensorflow/python/eager/polymorphic_function/polymorphic_function.py:880\u001b[0m, in \u001b[0;36mFunction.__call__\u001b[0;34m(self, *args, **kwds)\u001b[0m\n\u001b[1;32m    877\u001b[0m compiler \u001b[38;5;241m=\u001b[39m \u001b[38;5;124m\"\u001b[39m\u001b[38;5;124mxla\u001b[39m\u001b[38;5;124m\"\u001b[39m \u001b[38;5;28;01mif\u001b[39;00m \u001b[38;5;28mself\u001b[39m\u001b[38;5;241m.\u001b[39m_jit_compile \u001b[38;5;28;01melse\u001b[39;00m \u001b[38;5;124m\"\u001b[39m\u001b[38;5;124mnonXla\u001b[39m\u001b[38;5;124m\"\u001b[39m\n\u001b[1;32m    879\u001b[0m \u001b[38;5;28;01mwith\u001b[39;00m OptionalXlaContext(\u001b[38;5;28mself\u001b[39m\u001b[38;5;241m.\u001b[39m_jit_compile):\n\u001b[0;32m--> 880\u001b[0m   result \u001b[38;5;241m=\u001b[39m \u001b[38;5;28;43mself\u001b[39;49m\u001b[38;5;241;43m.\u001b[39;49m\u001b[43m_call\u001b[49m\u001b[43m(\u001b[49m\u001b[38;5;241;43m*\u001b[39;49m\u001b[43margs\u001b[49m\u001b[43m,\u001b[49m\u001b[43m \u001b[49m\u001b[38;5;241;43m*\u001b[39;49m\u001b[38;5;241;43m*\u001b[39;49m\u001b[43mkwds\u001b[49m\u001b[43m)\u001b[49m\n\u001b[1;32m    882\u001b[0m new_tracing_count \u001b[38;5;241m=\u001b[39m \u001b[38;5;28mself\u001b[39m\u001b[38;5;241m.\u001b[39mexperimental_get_tracing_count()\n\u001b[1;32m    883\u001b[0m without_tracing \u001b[38;5;241m=\u001b[39m (tracing_count \u001b[38;5;241m==\u001b[39m new_tracing_count)\n",
            "File \u001b[0;32m~/.local/lib/python3.8/site-packages/tensorflow/python/eager/polymorphic_function/polymorphic_function.py:912\u001b[0m, in \u001b[0;36mFunction._call\u001b[0;34m(self, *args, **kwds)\u001b[0m\n\u001b[1;32m    909\u001b[0m   \u001b[38;5;28mself\u001b[39m\u001b[38;5;241m.\u001b[39m_lock\u001b[38;5;241m.\u001b[39mrelease()\n\u001b[1;32m    910\u001b[0m   \u001b[38;5;66;03m# In this case we have created variables on the first call, so we run the\u001b[39;00m\n\u001b[1;32m    911\u001b[0m   \u001b[38;5;66;03m# defunned version which is guaranteed to never create variables.\u001b[39;00m\n\u001b[0;32m--> 912\u001b[0m   \u001b[38;5;28;01mreturn\u001b[39;00m \u001b[38;5;28;43mself\u001b[39;49m\u001b[38;5;241;43m.\u001b[39;49m\u001b[43m_no_variable_creation_fn\u001b[49m\u001b[43m(\u001b[49m\u001b[38;5;241;43m*\u001b[39;49m\u001b[43margs\u001b[49m\u001b[43m,\u001b[49m\u001b[43m \u001b[49m\u001b[38;5;241;43m*\u001b[39;49m\u001b[38;5;241;43m*\u001b[39;49m\u001b[43mkwds\u001b[49m\u001b[43m)\u001b[49m  \u001b[38;5;66;03m# pylint: disable=not-callable\u001b[39;00m\n\u001b[1;32m    913\u001b[0m \u001b[38;5;28;01melif\u001b[39;00m \u001b[38;5;28mself\u001b[39m\u001b[38;5;241m.\u001b[39m_variable_creation_fn \u001b[38;5;129;01mis\u001b[39;00m \u001b[38;5;129;01mnot\u001b[39;00m \u001b[38;5;28;01mNone\u001b[39;00m:\n\u001b[1;32m    914\u001b[0m   \u001b[38;5;66;03m# Release the lock early so that multiple threads can perform the call\u001b[39;00m\n\u001b[1;32m    915\u001b[0m   \u001b[38;5;66;03m# in parallel.\u001b[39;00m\n\u001b[1;32m    916\u001b[0m   \u001b[38;5;28mself\u001b[39m\u001b[38;5;241m.\u001b[39m_lock\u001b[38;5;241m.\u001b[39mrelease()\n",
            "File \u001b[0;32m~/.local/lib/python3.8/site-packages/tensorflow/python/eager/polymorphic_function/tracing_compiler.py:134\u001b[0m, in \u001b[0;36mTracingCompiler.__call__\u001b[0;34m(self, *args, **kwargs)\u001b[0m\n\u001b[1;32m    131\u001b[0m \u001b[38;5;28;01mwith\u001b[39;00m \u001b[38;5;28mself\u001b[39m\u001b[38;5;241m.\u001b[39m_lock:\n\u001b[1;32m    132\u001b[0m   (concrete_function,\n\u001b[1;32m    133\u001b[0m    filtered_flat_args) \u001b[38;5;241m=\u001b[39m \u001b[38;5;28mself\u001b[39m\u001b[38;5;241m.\u001b[39m_maybe_define_function(args, kwargs)\n\u001b[0;32m--> 134\u001b[0m \u001b[38;5;28;01mreturn\u001b[39;00m \u001b[43mconcrete_function\u001b[49m\u001b[38;5;241;43m.\u001b[39;49m\u001b[43m_call_flat\u001b[49m\u001b[43m(\u001b[49m\n\u001b[1;32m    135\u001b[0m \u001b[43m    \u001b[49m\u001b[43mfiltered_flat_args\u001b[49m\u001b[43m,\u001b[49m\u001b[43m \u001b[49m\u001b[43mcaptured_inputs\u001b[49m\u001b[38;5;241;43m=\u001b[39;49m\u001b[43mconcrete_function\u001b[49m\u001b[38;5;241;43m.\u001b[39;49m\u001b[43mcaptured_inputs\u001b[49m\u001b[43m)\u001b[49m\n",
            "File \u001b[0;32m~/.local/lib/python3.8/site-packages/tensorflow/python/eager/polymorphic_function/monomorphic_function.py:1745\u001b[0m, in \u001b[0;36mConcreteFunction._call_flat\u001b[0;34m(self, args, captured_inputs, cancellation_manager)\u001b[0m\n\u001b[1;32m   1741\u001b[0m possible_gradient_type \u001b[38;5;241m=\u001b[39m gradients_util\u001b[38;5;241m.\u001b[39mPossibleTapeGradientTypes(args)\n\u001b[1;32m   1742\u001b[0m \u001b[38;5;28;01mif\u001b[39;00m (possible_gradient_type \u001b[38;5;241m==\u001b[39m gradients_util\u001b[38;5;241m.\u001b[39mPOSSIBLE_GRADIENT_TYPES_NONE\n\u001b[1;32m   1743\u001b[0m     \u001b[38;5;129;01mand\u001b[39;00m executing_eagerly):\n\u001b[1;32m   1744\u001b[0m   \u001b[38;5;66;03m# No tape is watching; skip to running the function.\u001b[39;00m\n\u001b[0;32m-> 1745\u001b[0m   \u001b[38;5;28;01mreturn\u001b[39;00m \u001b[38;5;28mself\u001b[39m\u001b[38;5;241m.\u001b[39m_build_call_outputs(\u001b[38;5;28;43mself\u001b[39;49m\u001b[38;5;241;43m.\u001b[39;49m\u001b[43m_inference_function\u001b[49m\u001b[38;5;241;43m.\u001b[39;49m\u001b[43mcall\u001b[49m\u001b[43m(\u001b[49m\n\u001b[1;32m   1746\u001b[0m \u001b[43m      \u001b[49m\u001b[43mctx\u001b[49m\u001b[43m,\u001b[49m\u001b[43m \u001b[49m\u001b[43margs\u001b[49m\u001b[43m,\u001b[49m\u001b[43m \u001b[49m\u001b[43mcancellation_manager\u001b[49m\u001b[38;5;241;43m=\u001b[39;49m\u001b[43mcancellation_manager\u001b[49m\u001b[43m)\u001b[49m)\n\u001b[1;32m   1747\u001b[0m forward_backward \u001b[38;5;241m=\u001b[39m \u001b[38;5;28mself\u001b[39m\u001b[38;5;241m.\u001b[39m_select_forward_and_backward_functions(\n\u001b[1;32m   1748\u001b[0m     args,\n\u001b[1;32m   1749\u001b[0m     possible_gradient_type,\n\u001b[1;32m   1750\u001b[0m     executing_eagerly)\n\u001b[1;32m   1751\u001b[0m forward_function, args_with_tangents \u001b[38;5;241m=\u001b[39m forward_backward\u001b[38;5;241m.\u001b[39mforward()\n",
            "File \u001b[0;32m~/.local/lib/python3.8/site-packages/tensorflow/python/eager/polymorphic_function/monomorphic_function.py:378\u001b[0m, in \u001b[0;36m_EagerDefinedFunction.call\u001b[0;34m(self, ctx, args, cancellation_manager)\u001b[0m\n\u001b[1;32m    376\u001b[0m \u001b[38;5;28;01mwith\u001b[39;00m _InterpolateFunctionError(\u001b[38;5;28mself\u001b[39m):\n\u001b[1;32m    377\u001b[0m   \u001b[38;5;28;01mif\u001b[39;00m cancellation_manager \u001b[38;5;129;01mis\u001b[39;00m \u001b[38;5;28;01mNone\u001b[39;00m:\n\u001b[0;32m--> 378\u001b[0m     outputs \u001b[38;5;241m=\u001b[39m \u001b[43mexecute\u001b[49m\u001b[38;5;241;43m.\u001b[39;49m\u001b[43mexecute\u001b[49m\u001b[43m(\u001b[49m\n\u001b[1;32m    379\u001b[0m \u001b[43m        \u001b[49m\u001b[38;5;28;43mstr\u001b[39;49m\u001b[43m(\u001b[49m\u001b[38;5;28;43mself\u001b[39;49m\u001b[38;5;241;43m.\u001b[39;49m\u001b[43msignature\u001b[49m\u001b[38;5;241;43m.\u001b[39;49m\u001b[43mname\u001b[49m\u001b[43m)\u001b[49m\u001b[43m,\u001b[49m\n\u001b[1;32m    380\u001b[0m \u001b[43m        \u001b[49m\u001b[43mnum_outputs\u001b[49m\u001b[38;5;241;43m=\u001b[39;49m\u001b[38;5;28;43mself\u001b[39;49m\u001b[38;5;241;43m.\u001b[39;49m\u001b[43m_num_outputs\u001b[49m\u001b[43m,\u001b[49m\n\u001b[1;32m    381\u001b[0m \u001b[43m        \u001b[49m\u001b[43minputs\u001b[49m\u001b[38;5;241;43m=\u001b[39;49m\u001b[43margs\u001b[49m\u001b[43m,\u001b[49m\n\u001b[1;32m    382\u001b[0m \u001b[43m        \u001b[49m\u001b[43mattrs\u001b[49m\u001b[38;5;241;43m=\u001b[39;49m\u001b[43mattrs\u001b[49m\u001b[43m,\u001b[49m\n\u001b[1;32m    383\u001b[0m \u001b[43m        \u001b[49m\u001b[43mctx\u001b[49m\u001b[38;5;241;43m=\u001b[39;49m\u001b[43mctx\u001b[49m\u001b[43m)\u001b[49m\n\u001b[1;32m    384\u001b[0m   \u001b[38;5;28;01melse\u001b[39;00m:\n\u001b[1;32m    385\u001b[0m     outputs \u001b[38;5;241m=\u001b[39m execute\u001b[38;5;241m.\u001b[39mexecute_with_cancellation(\n\u001b[1;32m    386\u001b[0m         \u001b[38;5;28mstr\u001b[39m(\u001b[38;5;28mself\u001b[39m\u001b[38;5;241m.\u001b[39msignature\u001b[38;5;241m.\u001b[39mname),\n\u001b[1;32m    387\u001b[0m         num_outputs\u001b[38;5;241m=\u001b[39m\u001b[38;5;28mself\u001b[39m\u001b[38;5;241m.\u001b[39m_num_outputs,\n\u001b[0;32m   (...)\u001b[0m\n\u001b[1;32m    390\u001b[0m         ctx\u001b[38;5;241m=\u001b[39mctx,\n\u001b[1;32m    391\u001b[0m         cancellation_manager\u001b[38;5;241m=\u001b[39mcancellation_manager)\n",
            "File \u001b[0;32m~/.local/lib/python3.8/site-packages/tensorflow/python/eager/execute.py:52\u001b[0m, in \u001b[0;36mquick_execute\u001b[0;34m(op_name, num_outputs, inputs, attrs, ctx, name)\u001b[0m\n\u001b[1;32m     50\u001b[0m \u001b[38;5;28;01mtry\u001b[39;00m:\n\u001b[1;32m     51\u001b[0m   ctx\u001b[38;5;241m.\u001b[39mensure_initialized()\n\u001b[0;32m---> 52\u001b[0m   tensors \u001b[38;5;241m=\u001b[39m \u001b[43mpywrap_tfe\u001b[49m\u001b[38;5;241;43m.\u001b[39;49m\u001b[43mTFE_Py_Execute\u001b[49m\u001b[43m(\u001b[49m\u001b[43mctx\u001b[49m\u001b[38;5;241;43m.\u001b[39;49m\u001b[43m_handle\u001b[49m\u001b[43m,\u001b[49m\u001b[43m \u001b[49m\u001b[43mdevice_name\u001b[49m\u001b[43m,\u001b[49m\u001b[43m \u001b[49m\u001b[43mop_name\u001b[49m\u001b[43m,\u001b[49m\n\u001b[1;32m     53\u001b[0m \u001b[43m                                      \u001b[49m\u001b[43minputs\u001b[49m\u001b[43m,\u001b[49m\u001b[43m \u001b[49m\u001b[43mattrs\u001b[49m\u001b[43m,\u001b[49m\u001b[43m \u001b[49m\u001b[43mnum_outputs\u001b[49m\u001b[43m)\u001b[49m\n\u001b[1;32m     54\u001b[0m \u001b[38;5;28;01mexcept\u001b[39;00m core\u001b[38;5;241m.\u001b[39m_NotOkStatusException \u001b[38;5;28;01mas\u001b[39;00m e:\n\u001b[1;32m     55\u001b[0m   \u001b[38;5;28;01mif\u001b[39;00m name \u001b[38;5;129;01mis\u001b[39;00m \u001b[38;5;129;01mnot\u001b[39;00m \u001b[38;5;28;01mNone\u001b[39;00m:\n",
            "\u001b[0;31mKeyboardInterrupt\u001b[0m: "
          ]
        }
      ],
      "source": [
        "model.fit(train, validation_data = val, epochs = 200, callbacks = [tf.keras.callbacks.EarlyStopping(patience=25)])"
      ]
    },
    {
      "cell_type": "markdown",
      "id": "87de5270",
      "metadata": {
        "id": "87de5270"
      },
      "source": [
        "# Experiments for later:"
      ]
    },
    {
      "cell_type": "code",
      "execution_count": null,
      "id": "845521d4",
      "metadata": {
        "id": "845521d4"
      },
      "outputs": [],
      "source": [
        "def build_FCNN(hp, input_shape=16):\n",
        "                #n_hidden = hp.Int(\"n_hidden\", min_value = 1, max_value = 10, step = 1)\n",
        "                #learning_rate = hp.Float(\"learning_rate\", min_value = 3e-5, max_value = 3e-2)\n",
        "                model = keras.models.Sequential()\n",
        "                model.add(keras.layers.Conv2D(64, 7, activation='relu', padding='same', input_shape=[28,28,1]))\n",
        "                model.add(keras.layers.MaxPooling2D(2))\n",
        "                model.add(keras.layers.Conv2D(128, 3, activation='relu', padding='same'))\n",
        "                model.add(keras.layers.Conv2D(128, 3, activation='relu', padding='same'))\n",
        "                model.add(keras.layers.MaxPooling2D(2))\n",
        "                model.add(keras.layers.Conv2D(256, 3, activation='relu', padding='same'))\n",
        "                model.add(keras.layers.Conv2D(256, 3, activation='relu', padding='same'))\n",
        "                model.add(keras.layers.MaxPooling2D(2))\n",
        "                model.add(keras.layers.Conv2D(10, , activation='relu', padding='valid'))\n",
        "                \n",
        "                \n",
        "                model.add(keras.layers.Dropout(rate=0.2))\n",
        "                for layer in range(n_hidden):\n",
        "                    model.add(keras.layers.Dense(n_neurons, activation=\"relu\"))\n",
        "                    model.add(keras.layers.Dropout(rate=0.2))\n",
        "                model.add(keras.layers.Dense(1))\n",
        "                opt = keras.optimizers.Adam(learning_rate)\n",
        "                model.compile(loss='mean_squared_error',optimizer=opt)\n",
        "                return model"
      ]
    },
    {
      "cell_type": "markdown",
      "id": "7d79dc91",
      "metadata": {
        "id": "7d79dc91"
      },
      "source": [
        "Pass build_model to keras_tuner:"
      ]
    },
    {
      "cell_type": "code",
      "execution_count": null,
      "id": "ee526131",
      "metadata": {
        "id": "ee526131"
      },
      "outputs": [],
      "source": [
        "#tuner = keras_tuner.tuners.BayesianOptimization(build_model, objective=\"val_loss\", max_trials = 50, overwrite = True)\n",
        "tuner = keras_tuner.tuners.RandomSearch(build_model, objective=\"val_loss\", max_trials=200, executions_per_trial=1, overwrite = True)"
      ]
    },
    {
      "cell_type": "code",
      "execution_count": null,
      "id": "1600a2a2",
      "metadata": {
        "scrolled": true,
        "id": "1600a2a2"
      },
      "outputs": [],
      "source": [
        "tuner.search(train[:,:-2],train[:,-2], epochs = 200,validation_data = (val[:,:-2],val[:,-2]), callbacks=[keras.callbacks.EarlyStopping(patience=25)])"
      ]
    },
    {
      "cell_type": "markdown",
      "id": "0800734a",
      "metadata": {
        "id": "0800734a"
      },
      "source": [
        "Get parameters and models:"
      ]
    },
    {
      "cell_type": "code",
      "execution_count": null,
      "id": "1be7bdc8",
      "metadata": {
        "id": "1be7bdc8"
      },
      "outputs": [],
      "source": [
        "best_hp = tuner.get_best_hyperparameters(200)\n",
        "best_models = tuner.get_best_models(200)"
      ]
    },
    {
      "cell_type": "code",
      "execution_count": null,
      "id": "55f937c0",
      "metadata": {
        "id": "55f937c0"
      },
      "outputs": [],
      "source": [
        "def build_FCNN()"
      ]
    }
  ],
  "metadata": {
    "kernelspec": {
      "display_name": "Python 3 (ipykernel)",
      "language": "python",
      "name": "python3"
    },
    "language_info": {
      "codemirror_mode": {
        "name": "ipython",
        "version": 3
      },
      "file_extension": ".py",
      "mimetype": "text/x-python",
      "name": "python",
      "nbconvert_exporter": "python",
      "pygments_lexer": "ipython3",
      "version": "3.8.10"
    },
    "colab": {
      "provenance": [],
      "include_colab_link": true
    }
  },
  "nbformat": 4,
  "nbformat_minor": 5
}